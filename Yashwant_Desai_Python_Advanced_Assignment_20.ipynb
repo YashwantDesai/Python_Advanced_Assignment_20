{
 "cells": [
  {
   "cell_type": "markdown",
   "id": "0c27a818",
   "metadata": {},
   "source": [
    "# Yashwant Desai –  Python_Advanced_Assignment_20"
   ]
  },
  {
   "cell_type": "markdown",
   "id": "e3c69e36",
   "metadata": {},
   "source": [
    "# 1. Compare and contrast the float and Decimal classes' benefits and drawbacks."
   ]
  },
  {
   "cell_type": "markdown",
   "id": "20c79137",
   "metadata": {},
   "source": [
    "Below are benefits and drawbacks of float and decimal\n",
    "\n",
    "float:\n",
    "\n",
    "Benefits: Floating-point numbers (using the float class) are typically faster and use less memory than Decimal. They are suitable for most general-purpose numerical computations.\n",
    "\n",
    "Drawbacks: They have limited precision. Due to the binary representation, they cannot always represent decimal numbers exactly, leading to rounding errors.\n",
    "\n",
    "Benefits: Rounding errors are usually small and acceptable for most applications.\n",
    "\n",
    "Drawbacks: The precision of float numbers can lead to unexpected rounding issues when working with decimal numbers.\n",
    "\n",
    "Benefits: Faster and more memory-efficient, suitable for large-scale numerical simulations and scientific computing.\n",
    "\n",
    "Drawbacks: Limited precision can lead to subtle bugs.\n",
    "\n",
    "\n",
    "Decimal:\n",
    "\n",
    "Benefits: The Decimal class offers arbitrary precision arithmetic, making it suitable for financial and scientific calculations where exact decimal representations are crucial. It can represent decimal numbers precisely.\n",
    "\n",
    "Drawbacks: Slower and more memory-intensive than float. Not ideal for general-purpose numerical computations.\n",
    "\n",
    "Benefits: Allows fine control over rounding modes, making it suitable for applications where exact rounding is needed, such as financial calculations.\n",
    "\n",
    "Drawbacks: Rounding is explicit and might require more code compared to float.\n",
    "\n",
    "Benefits: Slower and consumes more memory, but offers higher precision and control over arithmetic operations.\n",
    "Drawbacks: Not suitable for high-performance numerical computing.\n",
    "\n"
   ]
  },
  {
   "cell_type": "markdown",
   "id": "4db329b2",
   "metadata": {},
   "source": [
    "# 2. Decimal('1.200') and Decimal('1.2') are two objects to consider. In what sense are these the same object? Are these just two ways of representing the exact same value, or do they correspond to different internal states?"
   ]
  },
  {
   "cell_type": "markdown",
   "id": "bf408beb",
   "metadata": {},
   "source": [
    "Decimal('1.200') and Decimal('1.2') are not the same object, but they represent the same value with different string representations. They correspond to different internal states, as the string representation of a Decimal value affects how it is stored and displayed, but the numeric value they represent is identical.\n",
    "\n",
    "Internally, a Decimal object stores both the value and the precision information. When you create a Decimal object using different string representations, such as '1.200' and '1.2', Python interprets these strings and creates Decimal objects with the same numeric value, but they may have different precision attributes depending on the number of digits and trailing zeros in the string."
   ]
  },
  {
   "cell_type": "markdown",
   "id": "77a7c3e0",
   "metadata": {},
   "source": [
    "# 3. What happens if the equality of Decimal('1.200') and Decimal('1.2') is checked?"
   ]
  },
  {
   "cell_type": "markdown",
   "id": "38c71ee2",
   "metadata": {},
   "source": [
    "When you check the equality of Decimal('1.200') and Decimal('1.2'), it will return True. This is because the Decimal class is designed to compare values, not string representations. Therefore, it looks at the numeric values, and in this case, '1.200' and '1.2' represent the same numeric value"
   ]
  },
  {
   "cell_type": "code",
   "execution_count": 2,
   "id": "4e00b2ca",
   "metadata": {},
   "outputs": [
    {
     "name": "stdout",
     "output_type": "stream",
     "text": [
      "True\n"
     ]
    }
   ],
   "source": [
    "from decimal import Decimal\n",
    "\n",
    "dec1 = Decimal('1.200')\n",
    "dec2 = Decimal('1.2')\n",
    "\n",
    "print(dec1 == dec2)"
   ]
  },
  {
   "cell_type": "markdown",
   "id": "ce17d094",
   "metadata": {},
   "source": [
    "# 4. Why is it preferable to start a Decimal object with a string rather than a floating-point value?"
   ]
  },
  {
   "cell_type": "markdown",
   "id": "83e2c4ec",
   "metadata": {},
   "source": [
    "It is preferable to start a Decimal object with a string rather than a floating-point value in Python to avoid potential precision issues and ensure accuracy, especially when dealing with decimal arithmetic. Here are the key reasons:\n",
    "\n",
    "Exact Representation: Using a string ensures that the Decimal object represents the number exactly, avoiding the inherent imprecision of floating-point representations.\n",
    "\n",
    "Avoiding Conversion Errors: Creating a Decimal from a floating-point value can lead to conversion errors and unexpected inaccuracies in calculations.\n",
    "\n",
    "Control over Precision: String representations provide control over the precision of the Decimal value, allowing you to specify the exact number of decimal places you want to represent.\n"
   ]
  },
  {
   "cell_type": "code",
   "execution_count": 3,
   "id": "1dd76c89",
   "metadata": {},
   "outputs": [
    {
     "name": "stdout",
     "output_type": "stream",
     "text": [
      "1.1\n",
      "1.100000000000000088817841970012523233890533447265625\n"
     ]
    }
   ],
   "source": [
    "from decimal import Decimal\n",
    "\n",
    "dec1 = Decimal('1.1')  \n",
    "\n",
    "dec2 = Decimal(1.1)    \n",
    "\n",
    "print(dec1)  \n",
    "print(dec2)  "
   ]
  },
  {
   "cell_type": "markdown",
   "id": "8ee0ae27",
   "metadata": {},
   "source": [
    "# 5. In an arithmetic phrase, how simple is it to combine Decimal objects with integers?"
   ]
  },
  {
   "cell_type": "markdown",
   "id": "4543ebc0",
   "metadata": {},
   "source": [
    "Combining decimal objects with integers in Python is straightforward and seamless. The Decimal class is designed to handle arithmetic operations with integers without any special considerations. This makes it convenient for accurately performing decimal arithmetic in various applications, including financial calculations, where precision is crucial. Below is an example."
   ]
  },
  {
   "cell_type": "code",
   "execution_count": 4,
   "id": "61e1e3f2",
   "metadata": {},
   "outputs": [
    {
     "name": "stdout",
     "output_type": "stream",
     "text": [
      "5.14\n"
     ]
    }
   ],
   "source": [
    "from decimal import Decimal\n",
    "decimal_value = Decimal('3.14')\n",
    "result = decimal_value + 2  \n",
    "print(result)"
   ]
  },
  {
   "cell_type": "markdown",
   "id": "0cb36be9",
   "metadata": {},
   "source": [
    "# 6. Can Decimal objects and floating-point values be combined easily?"
   ]
  },
  {
   "cell_type": "markdown",
   "id": "25192601",
   "metadata": {},
   "source": [
    "Decimal objects and floating-point values can be combined with relative ease. When you perform arithmetic operations between them, Python implicitly converts the floating-point value to a Decimal to ensure precision. While some precision loss may still occur due to the inherent limitations of floating-point representations, using Decimal objects in such cases helps mitigate this issue and allows for more accurate decimal arithmetic when needed."
   ]
  },
  {
   "cell_type": "code",
   "execution_count": 11,
   "id": "6108244b",
   "metadata": {},
   "outputs": [
    {
     "name": "stdout",
     "output_type": "stream",
     "text": [
      "5.64\n"
     ]
    }
   ],
   "source": [
    "from decimal import Decimal\n",
    "decimal_value = Decimal('3.14')\n",
    "result = decimal_value + Decimal(2.5)\n",
    "print(result)"
   ]
  },
  {
   "cell_type": "markdown",
   "id": "ee6d0406",
   "metadata": {},
   "source": [
    "# 7. Using the Fraction class but not the Decimal class, give an example of a quantity that can be expressed with absolute precision."
   ]
  },
  {
   "cell_type": "markdown",
   "id": "9d8e5fe1",
   "metadata": {},
   "source": [
    "The Fraction class is designed to represent rational numbers with absolute precision. It can express quantities with absolute precision, especially when dealing with exact fractions. Below is an example."
   ]
  },
  {
   "cell_type": "code",
   "execution_count": 12,
   "id": "c1257517",
   "metadata": {},
   "outputs": [
    {
     "name": "stdout",
     "output_type": "stream",
     "text": [
      "3/4\n"
     ]
    }
   ],
   "source": [
    "from fractions import Fraction\n",
    "quantity = Fraction(3, 4)\n",
    "print(quantity)"
   ]
  },
  {
   "cell_type": "markdown",
   "id": "c9d568e9",
   "metadata": {},
   "source": [
    "In above example, the Fraction class represents the quantity \"3/4\" with absolute precision. The resulting quantity is an exact representation of the fraction 3/4, which is not subject to rounding errors or precision loss."
   ]
  },
  {
   "cell_type": "markdown",
   "id": "141f008c",
   "metadata": {},
   "source": [
    "# 8. Describe a quantity that can be accurately expressed by the Decimal or Fraction classes but not by a floating-point value."
   ]
  },
  {
   "cell_type": "markdown",
   "id": "f246ae98",
   "metadata": {},
   "source": [
    "A quantity that can be accurately expressed by the Decimal or Fraction classes but not by a floating-point value is a repeating or non-terminating decimal, such as 1/3, which is represented as 0.333... in decimal form. Below is an example."
   ]
  },
  {
   "cell_type": "code",
   "execution_count": 14,
   "id": "50b733aa",
   "metadata": {},
   "outputs": [
    {
     "name": "stdout",
     "output_type": "stream",
     "text": [
      "1/7\n",
      "0.14285714285714285\n"
     ]
    }
   ],
   "source": [
    "from fractions import Fraction\n",
    "\n",
    "fraction_value = Fraction(1, 7)\n",
    "\n",
    "print(fraction_value)  \n",
    "\n",
    "float_value = 1 / 7\n",
    "\n",
    "print(float_value)"
   ]
  },
  {
   "cell_type": "markdown",
   "id": "3f0976a7",
   "metadata": {},
   "source": [
    "In above example, representing the fraction 1/7 using the Fraction class results in an exact representation, while trying to represent the same quantity using a floating-point value results in an approximation with limited precision. The Fraction class allows for exact representation of rational numbers, making it suitable for scenarios where precise fractions are needed, such as in some financial calculations or measurements."
   ]
  },
  {
   "cell_type": "markdown",
   "id": "0bd67fc9",
   "metadata": {},
   "source": [
    "# Q9.Consider the following two fraction objects: Fraction(1, 2) and Fraction(1, 2). (5, 10). Is the internal state of these two objects the same? Why do you think that is?"
   ]
  },
  {
   "cell_type": "markdown",
   "id": "99688c74",
   "metadata": {},
   "source": [
    "The Fraction objects Fraction(1, 2) and Fraction(5, 10) are equivalent and represent the same value. The internal state of these two objects is indeed the same.\n",
    "\n",
    "The reason for this is that the Fraction class automatically simplifies fractions by reducing them to their simplest form when you create an instance. In this case, both fractions 1/2 and 5/10 are equivalent because they represent the same value (0.5), and the Fraction class simplifies them to the same internal representation, which is 1/2."
   ]
  },
  {
   "cell_type": "code",
   "execution_count": 15,
   "id": "a77d9d1c",
   "metadata": {},
   "outputs": [
    {
     "name": "stdout",
     "output_type": "stream",
     "text": [
      "True\n"
     ]
    }
   ],
   "source": [
    "from fractions import Fraction\n",
    "\n",
    "fraction1 = Fraction(1, 2)\n",
    "fraction2 = Fraction(5, 10)\n",
    "\n",
    "print(fraction1 == fraction2)\n"
   ]
  },
  {
   "cell_type": "markdown",
   "id": "9bbf5c99",
   "metadata": {},
   "source": [
    "# Q10. How do the Fraction class and the integer type (int) relate to each other? Containment or inheritance?"
   ]
  },
  {
   "cell_type": "markdown",
   "id": "57158839",
   "metadata": {},
   "source": [
    "The Fraction class and the integer type (int) are related in the sense that the Fraction class can represent integers as fractions and seamlessly perform arithmetic operations with both integers and fractions. This relationship is based on the convenience of converting integers to fractions using the Fraction class and using it for mathematical operations, but it does not involve inheritance or containment between the two types."
   ]
  },
  {
   "cell_type": "code",
   "execution_count": 18,
   "id": "a7e32cf9",
   "metadata": {},
   "outputs": [
    {
     "name": "stdout",
     "output_type": "stream",
     "text": [
      "11/4\n"
     ]
    }
   ],
   "source": [
    "from fractions import Fraction\n",
    "fraction1 = Fraction(3, 4)\n",
    "fraction2 = Fraction(2, 1)\n",
    "\n",
    "result = fraction1 + fraction2\n",
    "\n",
    "print(result)"
   ]
  },
  {
   "cell_type": "code",
   "execution_count": 20,
   "id": "4f96b89d",
   "metadata": {},
   "outputs": [
    {
     "name": "stdout",
     "output_type": "stream",
     "text": [
      "5\n"
     ]
    }
   ],
   "source": [
    "from fractions import Fraction\n",
    "\n",
    "integer_as_fraction = Fraction(5, 1)\n",
    "\n",
    "print(integer_as_fraction)"
   ]
  },
  {
   "cell_type": "markdown",
   "id": "dda7d5b1",
   "metadata": {},
   "source": [
    "# Done all 10 questions "
   ]
  },
  {
   "cell_type": "markdown",
   "id": "a04469f9",
   "metadata": {},
   "source": [
    "# Regards,Yashwant"
   ]
  }
 ],
 "metadata": {
  "kernelspec": {
   "display_name": "Python 3 (ipykernel)",
   "language": "python",
   "name": "python3"
  },
  "language_info": {
   "codemirror_mode": {
    "name": "ipython",
    "version": 3
   },
   "file_extension": ".py",
   "mimetype": "text/x-python",
   "name": "python",
   "nbconvert_exporter": "python",
   "pygments_lexer": "ipython3",
   "version": "3.9.13"
  }
 },
 "nbformat": 4,
 "nbformat_minor": 5
}
